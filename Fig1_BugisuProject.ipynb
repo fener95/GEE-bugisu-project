{
  "cells": [
    {
      "cell_type": "markdown",
      "metadata": {
        "colab_type": "text",
        "id": "view-in-github"
      },
      "source": [
        "<a href=\"https://colab.research.google.com/github/fener95/GEE-bugisu-project/blob/main/Fig1_BugisuProject.ipynb\" target=\"_parent\"><img src=\"https://colab.research.google.com/assets/colab-badge.svg\" alt=\"Open In Colab\"/></a>"
      ]
    },
    {
      "cell_type": "markdown",
      "metadata": {
        "id": "C9-1w_t1b3pe"
      },
      "source": [
        "# SETUP"
      ]
    },
    {
      "cell_type": "code",
      "execution_count": null,
      "metadata": {
        "id": "aQ7Jp8MoaZ82"
      },
      "outputs": [],
      "source": [
        "import ee\n",
        "# Trigger the authentication flow.\n",
        "ee.Authenticate(auth_mode= 'notebook',  #force =True,\n",
        "                #scopes='https://www.googleapis.com/auth/earthengine'\n",
        "                )\n",
        "\n",
        "ee.Initialize(project='takehome-exam-bugisu-project')"
      ]
    },
    {
      "cell_type": "code",
      "execution_count": null,
      "metadata": {
        "id": "iO2uN51lalJK"
      },
      "outputs": [],
      "source": [
        "# if requested by gee, click on the secret-key (left panel); name: EE-PROJECT-ID; value: takehome-exam-bugisu-project\n",
        "\n",
        "# then run:\n",
        "\"\"\"\n",
        "from google.colab import userdata\n",
        "userdata.get('EE_PROJECT_ID')\n",
        "\"\"\""
      ]
    },
    {
      "cell_type": "code",
      "execution_count": null,
      "metadata": {
        "id": "xQguQ9tPbNXT"
      },
      "outputs": [],
      "source": [
        "import geemap\n",
        "Map = geemap.Map(center=[1.1, 34.2], zoom=9)"
      ]
    },
    {
      "cell_type": "code",
      "execution_count": null,
      "metadata": {
        "id": "KnbVoWYZd84Q"
      },
      "outputs": [],
      "source": [
        "#other libraries\n",
        "import pandas as pd\n",
        "import numpy as np\n",
        "import matplotlib.pyplot as plt\n",
        "import geopandas as gpd\n",
        "import datetime\n",
        "from shapely.geometry import mapping\n",
        "#-----CARTOEE-----\n",
        "!pip install cartopy scipy\n",
        "import cartopy\n",
        "from geemap import cartoee\n",
        "import cartopy.crs as ccrs\n",
        "from matplotlib.lines import Line2D"
      ]
    },
    {
      "cell_type": "markdown",
      "metadata": {
        "id": "KAygs_06bYWo"
      },
      "source": [
        "# Set the aoi from my asset (should work, in case does not: use the GAUL dataset and filter for ADM1_NAME: sironko, bududa, manafwa, kapchorwa, mbale, bulambuli, kween, bukwo)"
      ]
    },
    {
      "cell_type": "code",
      "execution_count": null,
      "metadata": {
        "id": "r8OPRqzebSAn"
      },
      "outputs": [],
      "source": [
        "aoi = \\\n",
        "ee.FeatureCollection(\"projects/takehome-exam-bugisu-project/assets/bugisu_subRegion\")\n",
        "geometry = aoi.geometry()\n",
        "#Map.addLayer(aoi.style(**{'color': 'red', 'fillColor': '00000000'}), {}, 'Bugisu sub-region')"
      ]
    },
    {
      "cell_type": "markdown",
      "metadata": {
        "id": "05qHRciIcKGd"
      },
      "source": [
        "# Elevation and slopes"
      ]
    },
    {
      "cell_type": "code",
      "execution_count": null,
      "metadata": {
        "id": "scqfa8Dbb2iE"
      },
      "outputs": [],
      "source": [
        "DEM = ee.Image(\"CGIAR/SRTM90_V4\")  # this is the elevation dataset at 90m spt res\n",
        "# Clip the DEM image to the AOI\n",
        "clipped_dem = DEM.clip(geometry)  # clip to the extent of the area\n",
        "\n",
        "# Define the terrain object\n",
        "terrain = ee.Algorithms.Terrain(clipped_dem)\n",
        "elevation = terrain.select('elevation')\n",
        "# palette and vis params for elevation\n",
        "ele_vis = {\n",
        "    'min': 0,\n",
        "    'max': 4323,\n",
        "    'palette': [ '0000ff', '00ff00', 'ffff00', 'ff0000', 'ffffff']\n",
        "}\n",
        "\n",
        "# Define the slope image\n",
        "slope = terrain.select('slope')\n",
        "\n",
        "# slope vis params\n",
        "slopeVis = {\n",
        "    'min': 0,\n",
        "    'max': 90,\n",
        "    'palette': ['blue', 'green', 'yellow', 'red']\n",
        "}\n",
        "#Map.addLayer(slope, slopeVis, 'Slope', False)\n",
        "#Map.addLayer(elevation, ele_vis, 'elevation (m)',0)"
      ]
    },
    {
      "cell_type": "markdown",
      "metadata": {
        "id": "UnLPBGgw86Ag"
      },
      "source": [
        "# (OPTIONAL) Export images to drive for QGIS or arcgis"
      ]
    },
    {
      "cell_type": "code",
      "execution_count": null,
      "metadata": {
        "colab": {
          "base_uri": "https://localhost:8080/",
          "height": 17
        },
        "id": "mHymaC8L8aVM",
        "outputId": "91c4a3ca-e320-46d5-f5ac-ef20d855d2dc"
      },
      "outputs": [
        {
          "data": {
            "text/html": [
              "\n",
              "            <style>\n",
              "                .geemap-dark {\n",
              "                    --jp-widgets-color: white;\n",
              "                    --jp-widgets-label-color: white;\n",
              "                    --jp-ui-font-color1: white;\n",
              "                    --jp-layout-color2: #454545;\n",
              "                    background-color: #383838;\n",
              "                }\n",
              "\n",
              "                .geemap-dark .jupyter-button {\n",
              "                    --jp-layout-color3: #383838;\n",
              "                }\n",
              "\n",
              "                .geemap-colab {\n",
              "                    background-color: var(--colab-primary-surface-color, white);\n",
              "                }\n",
              "\n",
              "                .geemap-colab .jupyter-button {\n",
              "                    --jp-layout-color3: var(--colab-primary-surface-color, white);\n",
              "                }\n",
              "            </style>\n",
              "            "
            ],
            "text/plain": [
              "<IPython.core.display.HTML object>"
            ]
          },
          "metadata": {},
          "output_type": "display_data"
        }
      ],
      "source": [
        "image = elevation # or slope\n",
        "\n",
        "# Set up Modify here and insert the desired input\n",
        "description='bugisu-elev-90m'\n",
        "folder = 'rasters'\n",
        "scale=90\n",
        "crs='EPSG:4326'\n",
        "\n",
        "# run task\n",
        "task = ee.batch.Export.image.toDrive(\n",
        "    image=image,\n",
        "    description=description,\n",
        "    folder=folder,\n",
        "    region=geometry,\n",
        "    scale=scale,\n",
        "    crs=crs\n",
        ")\n",
        "#task.start()"
      ]
    },
    {
      "cell_type": "markdown",
      "metadata": {
        "id": "Y3qwb--HdMsg"
      },
      "source": [
        "# Create threshold of elevation zones"
      ]
    },
    {
      "cell_type": "code",
      "execution_count": null,
      "metadata": {
        "id": "AzKnjbXMdczY"
      },
      "outputs": [],
      "source": [
        "scale = elevation.projection().nominalScale().getInfo()  # set the scale from the scale of elevation\n",
        "# Remap values.\n",
        "elevZones = ee.Image(1) \\\n",
        "    .where(elevation.gt(800).And(elevation.lte(1000)), 2) \\\n",
        "    .where(elevation.gt(1000).And(elevation.lte(1100)),3) \\\n",
        "    .where(elevation.gt(1100).And(elevation.lte(1200)), 4) \\\n",
        "    .where(elevation.gt(1200).And(elevation.lte(1400)), 5) \\\n",
        "    .where(elevation.gt(1400).And(elevation.lte(1600)), 6) \\\n",
        "    .where(elevation.gt(1600).And(elevation.lte(1800)), 7) \\\n",
        "    .where(elevation.gt(1800).And(elevation.lte(2000)), 8) \\\n",
        "    .where(elevation.gt(2000).And(elevation.lte(2200)), 9) \\\n",
        "    .where(elevation.gt(2200).And(elevation.lte(2400)), 10) \\\n",
        "    .where(elevation.gt(2400).And(elevation.lte(2600)), 11) \\\n",
        "    .where(elevation.gt(2600).And(elevation.lte(2800)), 12) \\\n",
        "    .where(elevation.gt(2800).And(elevation.lte(3000)), 13)\\\n",
        "    .where(elevation.gt(3000).And(elevation.lte(4300)), 14).clip(geometry).reproject(crs='EPSG:4326', scale=scale)\n",
        "\n",
        "# Define the elevation zones color palette\n",
        "paletteElev = [\n",
        "    '006400', # DarkGreen\n",
        "    '228B22', # ForestGreen\n",
        "    'ADFF2F', # GreenYellow\n",
        "    'FFFF00', # Yellow\n",
        "    'FFD700', # Gold\n",
        "    'FFA500', # Orange\n",
        "    'FF8C00', # DarkOrange\n",
        "    'FF4500', # OrangeRed\n",
        "    'FF0000', # Red\n",
        "    '8B0000',  # DarkRed\n",
        "    '800080', # Purple\n",
        "    'FF00FF', # Magenta\n",
        "    'FFC0CB', # Pink\n",
        "    'cyan'  # cyan\n",
        "]\n",
        "#Map.addLayer(elevZones, {'min': 1, 'max': 14, 'palette': paletteElev}, 'Elevation Zones',0)\n",
        "\n",
        "######OPTIONAL\n",
        "\"\"\"\n",
        "# Convert the classified image to vector data\n",
        "zones = elevZones.reduceToVectors(\n",
        "    reducer=ee.Reducer.mode(),  # Mode for categorical data\n",
        "    scale=scale,  # Adjust according to your DEM resolution\n",
        "    geometryType='polygon',  # Output as polygons\n",
        "    eightConnected=False,  # Optional, depends on your needs\n",
        ")\n",
        "\"\"\""
      ]
    },
    {
      "cell_type": "markdown",
      "metadata": {
        "id": "nKBjakvbdmuw"
      },
      "source": [
        "# Mapping with cartoee"
      ]
    },
    {
      "cell_type": "code",
      "execution_count": null,
      "metadata": {
        "id": "oao8Dwuld0db"
      },
      "outputs": [],
      "source": [
        "# define the legend dict\n",
        "\n",
        "legend_dict = {\n",
        "    '800-1000 (m)': '006400',\n",
        "    '1000-1100 (m)': '228B22',\n",
        "    '1100-1200 (m)': 'ADFF2F',\n",
        "    '1200-1400 (m)': 'FFFF00',\n",
        "    '1400-1600 (m)': 'FFD700',\n",
        "    '1600-1800 (m)': 'FFA500',\n",
        "    '1800-2000 (m)': 'FF8C00',\n",
        "    '2000-2200 (m)': 'FF4500',\n",
        "    '2200-2400 (m)': 'FF0000',\n",
        "    '2400-2600 (m)': '8B0000',\n",
        "    '2600-2800 (m)': '800080',\n",
        "    '2800-3000 (m)': 'FF00FF',\n",
        "    '3000-3400 (m)': 'FFC0CB',\n",
        "    '3400-4300 (m)': '00FFFF'\n",
        "}\n",
        "# Create the legend items\n",
        "legend = []\n",
        "for elevation, color in legend_dict.items():\n",
        "    item = Line2D(\n",
        "        [],\n",
        "        [],\n",
        "        marker=\"o\",\n",
        "        color='#' + color,\n",
        "        label=elevation,\n",
        "        markerfacecolor='#' + color,\n",
        "        markersize=5,\n",
        "        linestyle='',\n",
        "    )\n",
        "    legend.append(item)\n",
        "\n",
        "# Create the figure and axis\n",
        "fig, ax = plt.subplots(figsize=(7, 5))"
      ]
    },
    {
      "cell_type": "code",
      "execution_count": null,
      "metadata": {
        "id": "2Qf9ETq4eaVR"
      },
      "outputs": [],
      "source": [
        "# Draw one rectangle that inscribe the AOI on the map using the Drawing tools before executing this code block\n",
        "area = Map.user_roi\n",
        "#alternatively use these:\n",
        "# Example polygon coordinates\n",
        "polygon_coords = [\n",
        "    [34.054871, 0.722332],\n",
        "    [34.054871, 1.658704],\n",
        "    [34.859619, 1.658704],\n",
        "    [34.859619, 0.722332],\n",
        "    [34.054871, 0.722332]\n",
        "]\n",
        "\n",
        "# Create a polygon\n",
        "polygon = ee.Geometry.Polygon(polygon_coords)\n",
        "\n",
        "# Compute bounding box\n",
        "bounds = polygon.bounds()\n",
        "\n",
        "# Extract coordinates from bounding box\n",
        "coords = bounds.getInfo()['coordinates'][0]\n",
        "minLon, minLat = coords[0]\n",
        "maxLon, maxLat = coords[2]\n",
        "\n",
        "# Define the rectangle\n",
        "area = [minLon, minLat, maxLon, maxLat]"
      ]
    },
    {
      "cell_type": "code",
      "execution_count": null,
      "metadata": {
        "id": "9tR2dH5HezBy"
      },
      "outputs": [],
      "source": [
        "vis_params = {\n",
        "    'min': 1,\n",
        "    'max': 14,\n",
        "    'palette': paletteElev}"
      ]
    },
    {
      "cell_type": "code",
      "execution_count": null,
      "metadata": {
        "id": "q8G2E_ide3U7"
      },
      "outputs": [],
      "source": [
        "# Create a map using cartoee\n",
        "fig = plt.figure(figsize=(7, 5))\n",
        "ax = cartoee.get_map(elevZones, region=area, vis_params=vis_params)\n",
        "# add grid lines to the map at a specified interval\n",
        "cartoee.add_gridlines(ax, interval=0.1, xtick_rotation=0, linestyle=\":\")\n",
        "# title\n",
        "ax.set_title(label='Elevation Zones Bugisu', fontsize=15)\n",
        "# add scale bar\n",
        "scale_bar_dict = {\n",
        "    \"length\": 10,\n",
        "    \"xy\": (0.01, 0.95),\n",
        "    \"linewidth\": 2,\n",
        "    \"fontsize\": 10,\n",
        "    \"color\": \"black\",\n",
        "    \"unit\": \"km\",\n",
        "    \"ha\": \"center\",\n",
        "    \"va\": \"bottom\",\n",
        "}\n",
        "cartoee.add_scale_bar_lite(ax, **scale_bar_dict)\n",
        "# Add the legend to the map.\n",
        "cartoee.add_legend(\n",
        "    ax,\n",
        "    legend_elements=legend,\n",
        "    font_size=6,\n",
        "    title='Elevation Zones',\n",
        "    title_fontsize=8,\n",
        "    loc='lower right',\n",
        ")\n",
        "\n",
        "plt.show()"
      ]
    },
    {
      "cell_type": "code",
      "execution_count": null,
      "metadata": {
        "id": "WOW9RqgCfTGR"
      },
      "outputs": [],
      "source": [
        "# download to your local env\n",
        "cartoee.savefig(fig, 'elevZones_Elgon.jpg', dpi=300)"
      ]
    }
  ],
  "metadata": {
    "colab": {
      "authorship_tag": "ABX9TyMuqT1tlm9Vtppp8Ntg72ZH",
      "collapsed_sections": [
        "UnLPBGgw86Ag"
      ],
      "include_colab_link": true,
      "provenance": []
    },
    "kernelspec": {
      "display_name": "Python 3",
      "name": "python3"
    },
    "language_info": {
      "name": "python"
    }
  },
  "nbformat": 4,
  "nbformat_minor": 0
}
